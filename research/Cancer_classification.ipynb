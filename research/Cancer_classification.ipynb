{
  "nbformat": 4,
  "nbformat_minor": 0,
  "metadata": {
    "colab": {
      "provenance": [],
      "gpuType": "T4"
    },
    "kernelspec": {
      "name": "python3",
      "display_name": "Python 3"
    },
    "language_info": {
      "name": "python"
    },
    "accelerator": "GPU"
  },
  "cells": [
    {
      "cell_type": "code",
      "execution_count": 1,
      "metadata": {
        "id": "JtxT_S7Tr5eJ"
      },
      "outputs": [],
      "source": [
        "import os\n",
        "import numpy as np\n",
        "import matplotlib.pyplot as plt\n",
        "import tensorflow as tf\n",
        "import tensorflow.keras\n",
        "from tensorflow.keras import layers\n",
        "from tensorflow.keras.layers import Dense,Conv2D, Flatten, MaxPool2D, Dropout\n",
        "from tensorflow.keras import Model\n",
        "from tensorflow.keras.models import Sequential, load_model, Model\n",
        "from tensorflow.keras.preprocessing import image\n",
        "from tensorflow.keras.preprocessing.image import ImageDataGenerator\n",
        "from tensorflow.keras.callbacks import ModelCheckpoint, EarlyStopping, ReduceLROnPlateau, TensorBoard\n",
        "from tensorflow.keras.applications import EfficientNetB0\n",
        "from tensorflow.keras.applications.vgg16 import VGG16, preprocess_input\n",
        "from tensorflow.keras.applications.inception_v3 import InceptionV3\n",
        "\n"
      ]
    },
    {
      "cell_type": "code",
      "source": [
        "import gdown\n",
        "url = \"https://drive.google.com/file/d/18uXV88Z3PjWkYib-dKHVMr55VrqiiFrl/view?usp=sharing\"\n",
        "file_id = url.split(\"/\")[-2]\n",
        "file_id"
      ],
      "metadata": {
        "colab": {
          "base_uri": "https://localhost:8080/",
          "height": 35
        },
        "id": "DNT9rVOAM98T",
        "outputId": "11e680ae-8f73-4f45-e2c9-841ab8bc2465"
      },
      "execution_count": 2,
      "outputs": [
        {
          "output_type": "execute_result",
          "data": {
            "text/plain": [
              "'18uXV88Z3PjWkYib-dKHVMr55VrqiiFrl'"
            ],
            "application/vnd.google.colaboratory.intrinsic+json": {
              "type": "string"
            }
          },
          "metadata": {},
          "execution_count": 2
        }
      ]
    },
    {
      "cell_type": "code",
      "source": [
        "prefix = \"https://drive.google.com/uc?export=download&id=\"\n",
        "gdown.download(prefix+file_id, \"chest_data.zip\")"
      ],
      "metadata": {
        "colab": {
          "base_uri": "https://localhost:8080/",
          "height": 142
        },
        "id": "vORBh0k5NK_z",
        "outputId": "c9ce7e99-7637-4b43-d2fc-ad4198e908e8"
      },
      "execution_count": 3,
      "outputs": [
        {
          "output_type": "stream",
          "name": "stderr",
          "text": [
            "Downloading...\n",
            "From (original): https://drive.google.com/uc?export=download&id=18uXV88Z3PjWkYib-dKHVMr55VrqiiFrl\n",
            "From (redirected): https://drive.google.com/uc?export=download&id=18uXV88Z3PjWkYib-dKHVMr55VrqiiFrl&confirm=t&uuid=8baf1e08-43b2-45c6-b49a-8feea48b5b55\n",
            "To: /content/chest_data.zip\n",
            "100%|██████████| 124M/124M [00:01<00:00, 98.4MB/s]\n"
          ]
        },
        {
          "output_type": "execute_result",
          "data": {
            "text/plain": [
              "'chest_data.zip'"
            ],
            "application/vnd.google.colaboratory.intrinsic+json": {
              "type": "string"
            }
          },
          "metadata": {},
          "execution_count": 3
        }
      ]
    },
    {
      "cell_type": "code",
      "source": [
        "import zipfile\n",
        "unzip_path = '/content'\n",
        "os.makedirs(unzip_path, exist_ok=True)\n",
        "with zipfile.ZipFile(\"chest_data.zip\", 'r') as zip_ref:\n",
        "  zip_ref.extractall(unzip_path)"
      ],
      "metadata": {
        "id": "1tqeA3myO1ZJ"
      },
      "execution_count": 5,
      "outputs": []
    },
    {
      "cell_type": "code",
      "source": [
        "# File Directory for both the train and test\n",
        "train_path = \"../content/Data/train\"\n",
        "val_path = \"../content/Data/valid\"\n",
        "test_path = \"../content/Data/test\""
      ],
      "metadata": {
        "id": "aNtJGHt2ZUDS"
      },
      "execution_count": 7,
      "outputs": []
    },
    {
      "cell_type": "code",
      "source": [
        "# Define function to count number of images per class using a dictionary\n",
        "def GetDatasetSize(path):\n",
        "    num_of_image = {}\n",
        "    for folder in os.listdir(path):\n",
        "        # count files in the folder\n",
        "        num_of_image[folder] = len(os.listdir(os.path.join(path, folder)));\n",
        "    return num_of_image;\n",
        "\n",
        "# Get the number of images per class in each set (train, validation and test)\n",
        "train_set = GetDatasetSize(train_path)\n",
        "val_set = GetDatasetSize(val_path)\n",
        "test_set = GetDatasetSize(test_path)\n",
        "print(train_set,\"\\n\\n\",val_set,\"\\n\\n\",test_set)"
      ],
      "metadata": {
        "colab": {
          "base_uri": "https://localhost:8080/"
        },
        "id": "SbYnP7klZUfn",
        "outputId": "48529722-e915-407c-9dda-3d17744d5f5b"
      },
      "execution_count": 8,
      "outputs": [
        {
          "output_type": "stream",
          "name": "stdout",
          "text": [
            "{'normal': 148, 'large.cell.carcinoma_left.hilum_T2_N2_M0_IIIa': 115, 'adenocarcinoma_left.lower.lobe_T2_N0_M0_Ib': 195, 'squamous.cell.carcinoma_left.hilum_T1_N2_M0_IIIa': 155} \n",
            "\n",
            " {'normal': 13, 'large.cell.carcinoma_left.hilum_T2_N2_M0_IIIa': 21, 'adenocarcinoma_left.lower.lobe_T2_N0_M0_Ib': 23, 'squamous.cell.carcinoma_left.hilum_T1_N2_M0_IIIa': 15} \n",
            "\n",
            " {'normal': 54, 'squamous.cell.carcinoma': 90, 'large.cell.carcinoma': 51, 'adenocarcinoma': 120}\n"
          ]
        }
      ]
    },
    {
      "cell_type": "markdown",
      "source": [
        "# DATA PREPROCESSING"
      ],
      "metadata": {
        "id": "2Se-3JN6aSor"
      }
    },
    {
      "cell_type": "code",
      "source": [
        "# Image data generator with specified augmentation configurations (mostly geometric transformations)\n",
        "train_datagen = ImageDataGenerator(rescale = 1.0/255.0,\n",
        "                                  horizontal_flip = True,\n",
        "                                  fill_mode = 'nearest',\n",
        "                                  zoom_range=0.2,\n",
        "                                  shear_range = 0.2,\n",
        "                                  width_shift_range=0.2,\n",
        "                                  height_shift_range=0.2,\n",
        "                                  rotation_range=0.4)\n",
        "\n",
        "# Using data generator to create augmented data from image files in train_path directory\n",
        "train_data = train_datagen.flow_from_directory(train_path,\n",
        "                                                   batch_size = 5,\n",
        "                                                   target_size = (350,350),\n",
        "                                                   class_mode = 'categorical')\n",
        "\n",
        "# Dicctionary with class names to their respective indices in the generated data\n",
        "train_data.class_indices"
      ],
      "metadata": {
        "colab": {
          "base_uri": "https://localhost:8080/"
        },
        "id": "p89n0F8eZU7g",
        "outputId": "a7d4bcb6-c482-48c0-db3d-60e6586d5e1e"
      },
      "execution_count": 9,
      "outputs": [
        {
          "output_type": "stream",
          "name": "stdout",
          "text": [
            "Found 613 images belonging to 4 classes.\n"
          ]
        },
        {
          "output_type": "execute_result",
          "data": {
            "text/plain": [
              "{'adenocarcinoma_left.lower.lobe_T2_N0_M0_Ib': 0,\n",
              " 'large.cell.carcinoma_left.hilum_T2_N2_M0_IIIa': 1,\n",
              " 'normal': 2,\n",
              " 'squamous.cell.carcinoma_left.hilum_T1_N2_M0_IIIa': 3}"
            ]
          },
          "metadata": {},
          "execution_count": 9
        }
      ]
    },
    {
      "cell_type": "code",
      "source": [
        "val_datagen = ImageDataGenerator(rescale = 1.0/255.0)\n",
        "val_data = val_datagen.flow_from_directory(val_path,\n",
        "                                                   batch_size = 5,\n",
        "                                                   target_size = (350,350),\n",
        "                                                   class_mode = 'categorical')\n",
        "val_data.class_indices"
      ],
      "metadata": {
        "colab": {
          "base_uri": "https://localhost:8080/"
        },
        "id": "ZUNJa3gTZVUm",
        "outputId": "09aa7e90-efbf-4821-ceeb-9a1a27086be1"
      },
      "execution_count": 10,
      "outputs": [
        {
          "output_type": "stream",
          "name": "stdout",
          "text": [
            "Found 72 images belonging to 4 classes.\n"
          ]
        },
        {
          "output_type": "execute_result",
          "data": {
            "text/plain": [
              "{'adenocarcinoma_left.lower.lobe_T2_N0_M0_Ib': 0,\n",
              " 'large.cell.carcinoma_left.hilum_T2_N2_M0_IIIa': 1,\n",
              " 'normal': 2,\n",
              " 'squamous.cell.carcinoma_left.hilum_T1_N2_M0_IIIa': 3}"
            ]
          },
          "metadata": {},
          "execution_count": 10
        }
      ]
    },
    {
      "cell_type": "code",
      "source": [
        "test_datagen = ImageDataGenerator(rescale = 1.0/255.0)\n",
        "test_data = test_datagen.flow_from_directory(test_path,\n",
        "                                                   batch_size = 5,\n",
        "                                                   target_size = (350,350),\n",
        "                                                   class_mode = 'categorical')\n",
        "test_data.class_indices"
      ],
      "metadata": {
        "colab": {
          "base_uri": "https://localhost:8080/"
        },
        "id": "Pw56QMpBaYDF",
        "outputId": "b820a3f6-859d-4c8a-abc7-cda9a930640b"
      },
      "execution_count": 11,
      "outputs": [
        {
          "output_type": "stream",
          "name": "stdout",
          "text": [
            "Found 315 images belonging to 4 classes.\n"
          ]
        },
        {
          "output_type": "execute_result",
          "data": {
            "text/plain": [
              "{'adenocarcinoma': 0,\n",
              " 'large.cell.carcinoma': 1,\n",
              " 'normal': 2,\n",
              " 'squamous.cell.carcinoma': 3}"
            ]
          },
          "metadata": {},
          "execution_count": 11
        }
      ]
    },
    {
      "cell_type": "markdown",
      "source": [
        "# EfficientNetB0\n"
      ],
      "metadata": {
        "id": "w0ZEu3s5ahhC"
      }
    },
    {
      "cell_type": "code",
      "source": [
        "base_model = EfficientNetB0(input_shape = (350, 350, 3),\n",
        "                         include_top = False,\n",
        "                         weights = 'imagenet')"
      ],
      "metadata": {
        "colab": {
          "base_uri": "https://localhost:8080/"
        },
        "id": "hGyPlrqRaXxA",
        "outputId": "814ec989-ed53-4486-9cbd-aedcd169cc88"
      },
      "execution_count": 12,
      "outputs": [
        {
          "output_type": "stream",
          "name": "stdout",
          "text": [
            "Downloading data from https://storage.googleapis.com/keras-applications/efficientnetb0_notop.h5\n",
            "16705208/16705208 [==============================] - 0s 0us/step\n"
          ]
        }
      ]
    },
    {
      "cell_type": "code",
      "source": [
        "mc = ModelCheckpoint(\n",
        "    filepath=\"./ct_effnet_best_model.hdf5\",\n",
        "    monitor= 'val_accuracy',\n",
        "    verbose= 1,\n",
        "    save_best_only= True,\n",
        "    mode = 'auto'\n",
        "    );\n",
        "\n",
        "call_back = [ mc];\n",
        "\n",
        "tensorboard = TensorBoard(log_dir = 'logs')\n",
        "reduce_lr = ReduceLROnPlateau(monitor = 'val_accuracy', factor = 0.3, patience = 2, min_delta = 0.001,\n",
        "                              mode='auto',verbose=1)\n",
        "\n",
        "#We also add a earlystop for prevent the computer from wasting time if it's not making progress.\n",
        "\n",
        "\n",
        "early_stopping = EarlyStopping(monitor='val_acc', patience=3, restore_best_weights=True)"
      ],
      "metadata": {
        "id": "TjNVUPnsanFw"
      },
      "execution_count": 13,
      "outputs": []
    },
    {
      "cell_type": "markdown",
      "source": [
        "# Training the model"
      ],
      "metadata": {
        "id": "KYIsLRrUatyQ"
      }
    },
    {
      "cell_type": "code",
      "source": [
        "#Customize our base model\n",
        "EffNetmodel = base_model.output\n",
        "EffNetmodel = tf.keras.layers.GlobalAveragePooling2D()(EffNetmodel)\n",
        "# to provide overfitting problem\n",
        "EffNetmodel = tf.keras.layers.Dropout(rate=0.5)(EffNetmodel)\n",
        "\n",
        "#Finally, we add a layer with 4 'neurons' that will help us classify things into different categories.\n",
        "EffNetmodel = tf.keras.layers.Dense(4,activation='softmax')(EffNetmodel)"
      ],
      "metadata": {
        "id": "dgzqzcr1apK-"
      },
      "execution_count": 14,
      "outputs": []
    },
    {
      "cell_type": "code",
      "source": [
        "#We put together the original EfficientNetB0 and our new custom parts\n",
        "EffNetmodel = tf.keras.models.Model(inputs=base_model.input, outputs = EffNetmodel)\n",
        "\n",
        "#Compile up the rules and tools for training your neural network.\n",
        "#The optimizer determines how the model should update its internal parameters, the loss function quantifies how well the model is doing, and the metrics provide additional measures to track the model's performance.\n",
        "EffNetmodel.compile(loss='categorical_crossentropy',optimizer = 'Adam', metrics= ['accuracy'])"
      ],
      "metadata": {
        "id": "xbHH_My0arHt"
      },
      "execution_count": 15,
      "outputs": []
    },
    {
      "cell_type": "code",
      "source": [
        "%time\n",
        "EffNetB0 = EffNetmodel.fit(\n",
        "    train_data,\n",
        "    steps_per_epoch = train_data.samples//train_data.batch_size,\n",
        "    epochs = 64,\n",
        "    validation_data = val_data,\n",
        "    validation_steps = val_data.samples//val_data.batch_size,\n",
        "    callbacks = [tensorboard, mc, reduce_lr, early_stopping]\n",
        "    )"
      ],
      "metadata": {
        "colab": {
          "base_uri": "https://localhost:8080/"
        },
        "id": "Wf519f2saq33",
        "outputId": "ae2e12ae-d7fd-44b2-8142-28c467a22b6e"
      },
      "execution_count": 16,
      "outputs": [
        {
          "output_type": "stream",
          "name": "stdout",
          "text": [
            "CPU times: user 3 µs, sys: 0 ns, total: 3 µs\n",
            "Wall time: 6.44 µs\n",
            "Epoch 1/64\n",
            "122/122 [==============================] - ETA: 0s - loss: 1.1276 - accuracy: 0.4934\n",
            "Epoch 1: val_accuracy improved from -inf to 0.15714, saving model to ./ct_effnet_best_model.hdf5\n"
          ]
        },
        {
          "output_type": "stream",
          "name": "stderr",
          "text": [
            "/usr/local/lib/python3.10/dist-packages/keras/src/engine/training.py:3103: UserWarning: You are saving your model as an HDF5 file via `model.save()`. This file format is considered legacy. We recommend using instead the native Keras format, e.g. `model.save('my_model.keras')`.\n",
            "  saving_api.save_model(\n",
            "WARNING:tensorflow:Early stopping conditioned on metric `val_acc` which is not available. Available metrics are: loss,accuracy,val_loss,val_accuracy,lr\n"
          ]
        },
        {
          "output_type": "stream",
          "name": "stdout",
          "text": [
            "\b\b\b\b\b\b\b\b\b\b\b\b\b\b\b\b\b\b\b\b\b\b\b\b\b\b\b\b\b\b\b\b\b\b\b\b\b\b\b\b\b\b\b\b\b\b\b\b\b\b\b\b\b\b\b\b\b\b\b\b\b\b\b\b\b\b\b\b\b\b\b\b\b\b\b\b\b\b\b\b\b\b\b\b\r122/122 [==============================] - 78s 251ms/step - loss: 1.1276 - accuracy: 0.4934 - val_loss: 1.7207 - val_accuracy: 0.1571 - lr: 0.0010\n",
            "Epoch 2/64\n",
            "122/122 [==============================] - ETA: 0s - loss: 0.8659 - accuracy: 0.6365\n",
            "Epoch 2: val_accuracy improved from 0.15714 to 0.22857, saving model to ./ct_effnet_best_model.hdf5\n"
          ]
        },
        {
          "output_type": "stream",
          "name": "stderr",
          "text": [
            "WARNING:tensorflow:Early stopping conditioned on metric `val_acc` which is not available. Available metrics are: loss,accuracy,val_loss,val_accuracy,lr\n"
          ]
        },
        {
          "output_type": "stream",
          "name": "stdout",
          "text": [
            "\b\b\b\b\b\b\b\b\b\b\b\b\b\b\b\b\b\b\b\b\b\b\b\b\b\b\b\b\b\b\b\b\b\b\b\b\b\b\b\b\b\b\b\b\b\b\b\b\b\b\b\b\b\b\b\b\b\b\b\b\b\b\b\b\b\b\b\b\b\b\b\b\b\b\b\b\b\b\b\b\b\b\b\b\r122/122 [==============================] - 30s 245ms/step - loss: 0.8659 - accuracy: 0.6365 - val_loss: 1.5016 - val_accuracy: 0.2286 - lr: 0.0010\n",
            "Epoch 3/64\n",
            "122/122 [==============================] - ETA: 0s - loss: 0.7668 - accuracy: 0.6826\n",
            "Epoch 3: val_accuracy did not improve from 0.22857\n"
          ]
        },
        {
          "output_type": "stream",
          "name": "stderr",
          "text": [
            "WARNING:tensorflow:Early stopping conditioned on metric `val_acc` which is not available. Available metrics are: loss,accuracy,val_loss,val_accuracy,lr\n"
          ]
        },
        {
          "output_type": "stream",
          "name": "stdout",
          "text": [
            "\b\b\b\b\b\b\b\b\b\b\b\b\b\b\b\b\b\b\b\b\b\b\b\b\b\b\b\b\b\b\b\b\b\b\b\b\b\b\b\b\b\b\b\b\b\b\b\b\b\b\b\b\b\b\b\b\b\b\b\b\b\b\b\b\b\b\b\b\b\b\b\b\b\b\b\b\b\b\b\b\b\b\b\b\r122/122 [==============================] - 28s 231ms/step - loss: 0.7668 - accuracy: 0.6826 - val_loss: 1.5000 - val_accuracy: 0.1143 - lr: 0.0010\n",
            "Epoch 4/64\n",
            "122/122 [==============================] - ETA: 0s - loss: 0.6634 - accuracy: 0.7336\n",
            "Epoch 4: val_accuracy improved from 0.22857 to 0.30000, saving model to ./ct_effnet_best_model.hdf5\n"
          ]
        },
        {
          "output_type": "stream",
          "name": "stderr",
          "text": [
            "WARNING:tensorflow:Early stopping conditioned on metric `val_acc` which is not available. Available metrics are: loss,accuracy,val_loss,val_accuracy,lr\n"
          ]
        },
        {
          "output_type": "stream",
          "name": "stdout",
          "text": [
            "\b\b\b\b\b\b\b\b\b\b\b\b\b\b\b\b\b\b\b\b\b\b\b\b\b\b\b\b\b\b\b\b\b\b\b\b\b\b\b\b\b\b\b\b\b\b\b\b\b\b\b\b\b\b\b\b\b\b\b\b\b\b\b\b\b\b\b\b\b\b\b\b\b\b\b\b\b\b\b\b\b\b\b\b\r122/122 [==============================] - 28s 233ms/step - loss: 0.6634 - accuracy: 0.7336 - val_loss: 1.4807 - val_accuracy: 0.3000 - lr: 0.0010\n",
            "Epoch 5/64\n",
            "122/122 [==============================] - ETA: 0s - loss: 0.5524 - accuracy: 0.7812\n",
            "Epoch 5: val_accuracy did not improve from 0.30000\n"
          ]
        },
        {
          "output_type": "stream",
          "name": "stderr",
          "text": [
            "WARNING:tensorflow:Early stopping conditioned on metric `val_acc` which is not available. Available metrics are: loss,accuracy,val_loss,val_accuracy,lr\n"
          ]
        },
        {
          "output_type": "stream",
          "name": "stdout",
          "text": [
            "\b\b\b\b\b\b\b\b\b\b\b\b\b\b\b\b\b\b\b\b\b\b\b\b\b\b\b\b\b\b\b\b\b\b\b\b\b\b\b\b\b\b\b\b\b\b\b\b\b\b\b\b\b\b\b\b\b\b\b\b\b\b\b\b\b\b\b\b\b\b\b\b\b\b\b\b\b\b\b\b\b\b\b\b\r122/122 [==============================] - 28s 231ms/step - loss: 0.5524 - accuracy: 0.7812 - val_loss: 1.5230 - val_accuracy: 0.0429 - lr: 0.0010\n",
            "Epoch 6/64\n",
            "122/122 [==============================] - ETA: 0s - loss: 0.5802 - accuracy: 0.7664\n",
            "Epoch 6: val_accuracy did not improve from 0.30000\n",
            "\n",
            "Epoch 6: ReduceLROnPlateau reducing learning rate to 0.0003000000142492354.\n"
          ]
        },
        {
          "output_type": "stream",
          "name": "stderr",
          "text": [
            "WARNING:tensorflow:Early stopping conditioned on metric `val_acc` which is not available. Available metrics are: loss,accuracy,val_loss,val_accuracy,lr\n"
          ]
        },
        {
          "output_type": "stream",
          "name": "stdout",
          "text": [
            "\b\b\b\b\b\b\b\b\b\b\b\b\b\b\b\b\b\b\b\b\b\b\b\b\b\b\b\b\b\b\b\b\b\b\b\b\b\b\b\b\b\b\b\b\b\b\b\b\b\b\b\b\b\b\b\b\b\b\b\b\b\b\b\b\b\b\b\b\b\b\b\b\b\b\b\b\b\b\b\b\b\b\b\b\r122/122 [==============================] - 29s 233ms/step - loss: 0.5802 - accuracy: 0.7664 - val_loss: 31.5453 - val_accuracy: 0.3000 - lr: 0.0010\n",
            "Epoch 7/64\n",
            "122/122 [==============================] - ETA: 0s - loss: 0.3289 - accuracy: 0.8799\n",
            "Epoch 7: val_accuracy improved from 0.30000 to 0.42857, saving model to ./ct_effnet_best_model.hdf5\n"
          ]
        },
        {
          "output_type": "stream",
          "name": "stderr",
          "text": [
            "WARNING:tensorflow:Early stopping conditioned on metric `val_acc` which is not available. Available metrics are: loss,accuracy,val_loss,val_accuracy,lr\n"
          ]
        },
        {
          "output_type": "stream",
          "name": "stdout",
          "text": [
            "\b\b\b\b\b\b\b\b\b\b\b\b\b\b\b\b\b\b\b\b\b\b\b\b\b\b\b\b\b\b\b\b\b\b\b\b\b\b\b\b\b\b\b\b\b\b\b\b\b\b\b\b\b\b\b\b\b\b\b\b\b\b\b\b\b\b\b\b\b\b\b\b\b\b\b\b\b\b\b\b\b\b\b\b\r122/122 [==============================] - 29s 238ms/step - loss: 0.3289 - accuracy: 0.8799 - val_loss: 1.3365 - val_accuracy: 0.4286 - lr: 3.0000e-04\n",
            "Epoch 8/64\n",
            "122/122 [==============================] - ETA: 0s - loss: 0.2539 - accuracy: 0.9095\n",
            "Epoch 8: val_accuracy did not improve from 0.42857\n"
          ]
        },
        {
          "output_type": "stream",
          "name": "stderr",
          "text": [
            "WARNING:tensorflow:Early stopping conditioned on metric `val_acc` which is not available. Available metrics are: loss,accuracy,val_loss,val_accuracy,lr\n"
          ]
        },
        {
          "output_type": "stream",
          "name": "stdout",
          "text": [
            "\b\b\b\b\b\b\b\b\b\b\b\b\b\b\b\b\b\b\b\b\b\b\b\b\b\b\b\b\b\b\b\b\b\b\b\b\b\b\b\b\b\b\b\b\b\b\b\b\b\b\b\b\b\b\b\b\b\b\b\b\b\b\b\b\b\b\b\b\b\b\b\b\b\b\b\b\b\b\b\b\b\b\b\b\r122/122 [==============================] - 27s 225ms/step - loss: 0.2539 - accuracy: 0.9095 - val_loss: 2.8258 - val_accuracy: 0.2429 - lr: 3.0000e-04\n",
            "Epoch 9/64\n",
            "122/122 [==============================] - ETA: 0s - loss: 0.1583 - accuracy: 0.9457\n",
            "Epoch 9: val_accuracy did not improve from 0.42857\n",
            "\n",
            "Epoch 9: ReduceLROnPlateau reducing learning rate to 9.000000427477062e-05.\n"
          ]
        },
        {
          "output_type": "stream",
          "name": "stderr",
          "text": [
            "WARNING:tensorflow:Early stopping conditioned on metric `val_acc` which is not available. Available metrics are: loss,accuracy,val_loss,val_accuracy,lr\n"
          ]
        },
        {
          "output_type": "stream",
          "name": "stdout",
          "text": [
            "\b\b\b\b\b\b\b\b\b\b\b\b\b\b\b\b\b\b\b\b\b\b\b\b\b\b\b\b\b\b\b\b\b\b\b\b\b\b\b\b\b\b\b\b\b\b\b\b\b\b\b\b\b\b\b\b\b\b\b\b\b\b\b\b\b\b\b\b\b\b\b\b\b\b\b\b\b\b\b\b\b\b\b\b\r122/122 [==============================] - 28s 226ms/step - loss: 0.1583 - accuracy: 0.9457 - val_loss: 123.0794 - val_accuracy: 0.3286 - lr: 3.0000e-04\n",
            "Epoch 10/64\n",
            "122/122 [==============================] - ETA: 0s - loss: 0.1670 - accuracy: 0.9474\n",
            "Epoch 10: val_accuracy did not improve from 0.42857\n"
          ]
        },
        {
          "output_type": "stream",
          "name": "stderr",
          "text": [
            "WARNING:tensorflow:Early stopping conditioned on metric `val_acc` which is not available. Available metrics are: loss,accuracy,val_loss,val_accuracy,lr\n"
          ]
        },
        {
          "output_type": "stream",
          "name": "stdout",
          "text": [
            "\b\b\b\b\b\b\b\b\b\b\b\b\b\b\b\b\b\b\b\b\b\b\b\b\b\b\b\b\b\b\b\b\b\b\b\b\b\b\b\b\b\b\b\b\b\b\b\b\b\b\b\b\b\b\b\b\b\b\b\b\b\b\b\b\b\b\b\b\b\b\b\b\b\b\b\b\b\b\b\b\b\b\b\b\r122/122 [==============================] - 28s 231ms/step - loss: 0.1670 - accuracy: 0.9474 - val_loss: 336.1862 - val_accuracy: 0.3429 - lr: 9.0000e-05\n",
            "Epoch 11/64\n",
            "122/122 [==============================] - ETA: 0s - loss: 0.1381 - accuracy: 0.9589\n",
            "Epoch 11: val_accuracy did not improve from 0.42857\n",
            "\n",
            "Epoch 11: ReduceLROnPlateau reducing learning rate to 2.700000040931627e-05.\n"
          ]
        },
        {
          "output_type": "stream",
          "name": "stderr",
          "text": [
            "WARNING:tensorflow:Early stopping conditioned on metric `val_acc` which is not available. Available metrics are: loss,accuracy,val_loss,val_accuracy,lr\n"
          ]
        },
        {
          "output_type": "stream",
          "name": "stdout",
          "text": [
            "\b\b\b\b\b\b\b\b\b\b\b\b\b\b\b\b\b\b\b\b\b\b\b\b\b\b\b\b\b\b\b\b\b\b\b\b\b\b\b\b\b\b\b\b\b\b\b\b\b\b\b\b\b\b\b\b\b\b\b\b\b\b\b\b\b\b\b\b\b\b\b\b\b\b\b\b\b\b\b\b\b\b\b\b\r122/122 [==============================] - 28s 225ms/step - loss: 0.1381 - accuracy: 0.9589 - val_loss: 1.3781 - val_accuracy: 0.2857 - lr: 9.0000e-05\n",
            "Epoch 12/64\n",
            "122/122 [==============================] - ETA: 0s - loss: 0.1392 - accuracy: 0.9507\n",
            "Epoch 12: val_accuracy improved from 0.42857 to 0.52857, saving model to ./ct_effnet_best_model.hdf5\n"
          ]
        },
        {
          "output_type": "stream",
          "name": "stderr",
          "text": [
            "WARNING:tensorflow:Early stopping conditioned on metric `val_acc` which is not available. Available metrics are: loss,accuracy,val_loss,val_accuracy,lr\n"
          ]
        },
        {
          "output_type": "stream",
          "name": "stdout",
          "text": [
            "\b\b\b\b\b\b\b\b\b\b\b\b\b\b\b\b\b\b\b\b\b\b\b\b\b\b\b\b\b\b\b\b\b\b\b\b\b\b\b\b\b\b\b\b\b\b\b\b\b\b\b\b\b\b\b\b\b\b\b\b\b\b\b\b\b\b\b\b\b\b\b\b\b\b\b\b\b\b\b\b\b\b\b\b\r122/122 [==============================] - 28s 230ms/step - loss: 0.1392 - accuracy: 0.9507 - val_loss: 1.4042 - val_accuracy: 0.5286 - lr: 2.7000e-05\n",
            "Epoch 13/64\n",
            "122/122 [==============================] - ETA: 0s - loss: 0.1043 - accuracy: 0.9720\n",
            "Epoch 13: val_accuracy improved from 0.52857 to 0.77143, saving model to ./ct_effnet_best_model.hdf5\n"
          ]
        },
        {
          "output_type": "stream",
          "name": "stderr",
          "text": [
            "WARNING:tensorflow:Early stopping conditioned on metric `val_acc` which is not available. Available metrics are: loss,accuracy,val_loss,val_accuracy,lr\n"
          ]
        },
        {
          "output_type": "stream",
          "name": "stdout",
          "text": [
            "\b\b\b\b\b\b\b\b\b\b\b\b\b\b\b\b\b\b\b\b\b\b\b\b\b\b\b\b\b\b\b\b\b\b\b\b\b\b\b\b\b\b\b\b\b\b\b\b\b\b\b\b\b\b\b\b\b\b\b\b\b\b\b\b\b\b\b\b\b\b\b\b\b\b\b\b\b\b\b\b\b\b\b\b\r122/122 [==============================] - 28s 226ms/step - loss: 0.1043 - accuracy: 0.9720 - val_loss: 0.5522 - val_accuracy: 0.7714 - lr: 2.7000e-05\n",
            "Epoch 14/64\n",
            "122/122 [==============================] - ETA: 0s - loss: 0.1221 - accuracy: 0.9655\n",
            "Epoch 14: val_accuracy did not improve from 0.77143\n"
          ]
        },
        {
          "output_type": "stream",
          "name": "stderr",
          "text": [
            "WARNING:tensorflow:Early stopping conditioned on metric `val_acc` which is not available. Available metrics are: loss,accuracy,val_loss,val_accuracy,lr\n"
          ]
        },
        {
          "output_type": "stream",
          "name": "stdout",
          "text": [
            "\b\b\b\b\b\b\b\b\b\b\b\b\b\b\b\b\b\b\b\b\b\b\b\b\b\b\b\b\b\b\b\b\b\b\b\b\b\b\b\b\b\b\b\b\b\b\b\b\b\b\b\b\b\b\b\b\b\b\b\b\b\b\b\b\b\b\b\b\b\b\b\b\b\b\b\b\b\b\b\b\b\b\b\b\r122/122 [==============================] - 27s 221ms/step - loss: 0.1221 - accuracy: 0.9655 - val_loss: 0.9111 - val_accuracy: 0.5429 - lr: 2.7000e-05\n",
            "Epoch 15/64\n",
            "122/122 [==============================] - ETA: 0s - loss: 0.1160 - accuracy: 0.9622\n",
            "Epoch 15: val_accuracy did not improve from 0.77143\n",
            "\n",
            "Epoch 15: ReduceLROnPlateau reducing learning rate to 8.100000013655517e-06.\n"
          ]
        },
        {
          "output_type": "stream",
          "name": "stderr",
          "text": [
            "WARNING:tensorflow:Early stopping conditioned on metric `val_acc` which is not available. Available metrics are: loss,accuracy,val_loss,val_accuracy,lr\n"
          ]
        },
        {
          "output_type": "stream",
          "name": "stdout",
          "text": [
            "\b\b\b\b\b\b\b\b\b\b\b\b\b\b\b\b\b\b\b\b\b\b\b\b\b\b\b\b\b\b\b\b\b\b\b\b\b\b\b\b\b\b\b\b\b\b\b\b\b\b\b\b\b\b\b\b\b\b\b\b\b\b\b\b\b\b\b\b\b\b\b\b\b\b\b\b\b\b\b\b\b\b\b\b\r122/122 [==============================] - 27s 224ms/step - loss: 0.1160 - accuracy: 0.9622 - val_loss: 1.0318 - val_accuracy: 0.6143 - lr: 2.7000e-05\n",
            "Epoch 16/64\n",
            "122/122 [==============================] - ETA: 0s - loss: 0.1127 - accuracy: 0.9605\n",
            "Epoch 16: val_accuracy improved from 0.77143 to 0.85714, saving model to ./ct_effnet_best_model.hdf5\n"
          ]
        },
        {
          "output_type": "stream",
          "name": "stderr",
          "text": [
            "WARNING:tensorflow:Early stopping conditioned on metric `val_acc` which is not available. Available metrics are: loss,accuracy,val_loss,val_accuracy,lr\n"
          ]
        },
        {
          "output_type": "stream",
          "name": "stdout",
          "text": [
            "\b\b\b\b\b\b\b\b\b\b\b\b\b\b\b\b\b\b\b\b\b\b\b\b\b\b\b\b\b\b\b\b\b\b\b\b\b\b\b\b\b\b\b\b\b\b\b\b\b\b\b\b\b\b\b\b\b\b\b\b\b\b\b\b\b\b\b\b\b\b\b\b\b\b\b\b\b\b\b\b\b\b\b\b\r122/122 [==============================] - 28s 226ms/step - loss: 0.1127 - accuracy: 0.9605 - val_loss: 0.3285 - val_accuracy: 0.8571 - lr: 8.1000e-06\n",
            "Epoch 17/64\n",
            "122/122 [==============================] - ETA: 0s - loss: 0.0852 - accuracy: 0.9753\n",
            "Epoch 17: val_accuracy improved from 0.85714 to 0.91429, saving model to ./ct_effnet_best_model.hdf5\n"
          ]
        },
        {
          "output_type": "stream",
          "name": "stderr",
          "text": [
            "WARNING:tensorflow:Early stopping conditioned on metric `val_acc` which is not available. Available metrics are: loss,accuracy,val_loss,val_accuracy,lr\n"
          ]
        },
        {
          "output_type": "stream",
          "name": "stdout",
          "text": [
            "\b\b\b\b\b\b\b\b\b\b\b\b\b\b\b\b\b\b\b\b\b\b\b\b\b\b\b\b\b\b\b\b\b\b\b\b\b\b\b\b\b\b\b\b\b\b\b\b\b\b\b\b\b\b\b\b\b\b\b\b\b\b\b\b\b\b\b\b\b\b\b\b\b\b\b\b\b\b\b\b\b\b\b\b\r122/122 [==============================] - 28s 229ms/step - loss: 0.0852 - accuracy: 0.9753 - val_loss: 0.2897 - val_accuracy: 0.9143 - lr: 8.1000e-06\n",
            "Epoch 18/64\n",
            "122/122 [==============================] - ETA: 0s - loss: 0.0936 - accuracy: 0.9737\n",
            "Epoch 18: val_accuracy did not improve from 0.91429\n"
          ]
        },
        {
          "output_type": "stream",
          "name": "stderr",
          "text": [
            "WARNING:tensorflow:Early stopping conditioned on metric `val_acc` which is not available. Available metrics are: loss,accuracy,val_loss,val_accuracy,lr\n"
          ]
        },
        {
          "output_type": "stream",
          "name": "stdout",
          "text": [
            "\b\b\b\b\b\b\b\b\b\b\b\b\b\b\b\b\b\b\b\b\b\b\b\b\b\b\b\b\b\b\b\b\b\b\b\b\b\b\b\b\b\b\b\b\b\b\b\b\b\b\b\b\b\b\b\b\b\b\b\b\b\b\b\b\b\b\b\b\b\b\b\b\b\b\b\b\b\b\b\b\b\b\b\b\r122/122 [==============================] - 27s 222ms/step - loss: 0.0936 - accuracy: 0.9737 - val_loss: 0.2662 - val_accuracy: 0.9000 - lr: 8.1000e-06\n",
            "Epoch 19/64\n",
            "122/122 [==============================] - ETA: 0s - loss: 0.0931 - accuracy: 0.9720\n",
            "Epoch 19: val_accuracy did not improve from 0.91429\n",
            "\n",
            "Epoch 19: ReduceLROnPlateau reducing learning rate to 2.429999949526973e-06.\n"
          ]
        },
        {
          "output_type": "stream",
          "name": "stderr",
          "text": [
            "WARNING:tensorflow:Early stopping conditioned on metric `val_acc` which is not available. Available metrics are: loss,accuracy,val_loss,val_accuracy,lr\n"
          ]
        },
        {
          "output_type": "stream",
          "name": "stdout",
          "text": [
            "\b\b\b\b\b\b\b\b\b\b\b\b\b\b\b\b\b\b\b\b\b\b\b\b\b\b\b\b\b\b\b\b\b\b\b\b\b\b\b\b\b\b\b\b\b\b\b\b\b\b\b\b\b\b\b\b\b\b\b\b\b\b\b\b\b\b\b\b\b\b\b\b\b\b\b\b\b\b\b\b\b\b\b\b\r122/122 [==============================] - 27s 221ms/step - loss: 0.0931 - accuracy: 0.9720 - val_loss: 0.5402 - val_accuracy: 0.8857 - lr: 8.1000e-06\n",
            "Epoch 20/64\n",
            "122/122 [==============================] - ETA: 0s - loss: 0.0878 - accuracy: 0.9803\n",
            "Epoch 20: val_accuracy did not improve from 0.91429\n"
          ]
        },
        {
          "output_type": "stream",
          "name": "stderr",
          "text": [
            "WARNING:tensorflow:Early stopping conditioned on metric `val_acc` which is not available. Available metrics are: loss,accuracy,val_loss,val_accuracy,lr\n"
          ]
        },
        {
          "output_type": "stream",
          "name": "stdout",
          "text": [
            "\b\b\b\b\b\b\b\b\b\b\b\b\b\b\b\b\b\b\b\b\b\b\b\b\b\b\b\b\b\b\b\b\b\b\b\b\b\b\b\b\b\b\b\b\b\b\b\b\b\b\b\b\b\b\b\b\b\b\b\b\b\b\b\b\b\b\b\b\b\b\b\b\b\b\b\b\b\b\b\b\b\b\b\b\r122/122 [==============================] - 27s 221ms/step - loss: 0.0878 - accuracy: 0.9803 - val_loss: 0.3734 - val_accuracy: 0.9143 - lr: 2.4300e-06\n",
            "Epoch 21/64\n",
            "122/122 [==============================] - ETA: 0s - loss: 0.1218 - accuracy: 0.9605\n",
            "Epoch 21: val_accuracy improved from 0.91429 to 0.92857, saving model to ./ct_effnet_best_model.hdf5\n"
          ]
        },
        {
          "output_type": "stream",
          "name": "stderr",
          "text": [
            "WARNING:tensorflow:Early stopping conditioned on metric `val_acc` which is not available. Available metrics are: loss,accuracy,val_loss,val_accuracy,lr\n"
          ]
        },
        {
          "output_type": "stream",
          "name": "stdout",
          "text": [
            "\b\b\b\b\b\b\b\b\b\b\b\b\b\b\b\b\b\b\b\b\b\b\b\b\b\b\b\b\b\b\b\b\b\b\b\b\b\b\b\b\b\b\b\b\b\b\b\b\b\b\b\b\b\b\b\b\b\b\b\b\b\b\b\b\b\b\b\b\b\b\b\b\b\b\b\b\b\b\b\b\b\b\b\b\r122/122 [==============================] - 28s 228ms/step - loss: 0.1218 - accuracy: 0.9605 - val_loss: 0.2545 - val_accuracy: 0.9286 - lr: 2.4300e-06\n",
            "Epoch 22/64\n",
            "122/122 [==============================] - ETA: 0s - loss: 0.0843 - accuracy: 0.9803\n",
            "Epoch 22: val_accuracy did not improve from 0.92857\n"
          ]
        },
        {
          "output_type": "stream",
          "name": "stderr",
          "text": [
            "WARNING:tensorflow:Early stopping conditioned on metric `val_acc` which is not available. Available metrics are: loss,accuracy,val_loss,val_accuracy,lr\n"
          ]
        },
        {
          "output_type": "stream",
          "name": "stdout",
          "text": [
            "\b\b\b\b\b\b\b\b\b\b\b\b\b\b\b\b\b\b\b\b\b\b\b\b\b\b\b\b\b\b\b\b\b\b\b\b\b\b\b\b\b\b\b\b\b\b\b\b\b\b\b\b\b\b\b\b\b\b\b\b\b\b\b\b\b\b\b\b\b\b\b\b\b\b\b\b\b\b\b\b\b\b\b\b\r122/122 [==============================] - 28s 229ms/step - loss: 0.0843 - accuracy: 0.9803 - val_loss: 0.2976 - val_accuracy: 0.9286 - lr: 2.4300e-06\n",
            "Epoch 23/64\n",
            "122/122 [==============================] - ETA: 0s - loss: 0.1158 - accuracy: 0.9655\n",
            "Epoch 23: val_accuracy did not improve from 0.92857\n",
            "\n",
            "Epoch 23: ReduceLROnPlateau reducing learning rate to 7.289999985005124e-07.\n"
          ]
        },
        {
          "output_type": "stream",
          "name": "stderr",
          "text": [
            "WARNING:tensorflow:Early stopping conditioned on metric `val_acc` which is not available. Available metrics are: loss,accuracy,val_loss,val_accuracy,lr\n"
          ]
        },
        {
          "output_type": "stream",
          "name": "stdout",
          "text": [
            "\b\b\b\b\b\b\b\b\b\b\b\b\b\b\b\b\b\b\b\b\b\b\b\b\b\b\b\b\b\b\b\b\b\b\b\b\b\b\b\b\b\b\b\b\b\b\b\b\b\b\b\b\b\b\b\b\b\b\b\b\b\b\b\b\b\b\b\b\b\b\b\b\b\b\b\b\b\b\b\b\b\b\b\b\r122/122 [==============================] - 27s 222ms/step - loss: 0.1158 - accuracy: 0.9655 - val_loss: 0.2755 - val_accuracy: 0.9286 - lr: 2.4300e-06\n",
            "Epoch 24/64\n",
            "122/122 [==============================] - ETA: 0s - loss: 0.0956 - accuracy: 0.9737\n",
            "Epoch 24: val_accuracy did not improve from 0.92857\n"
          ]
        },
        {
          "output_type": "stream",
          "name": "stderr",
          "text": [
            "WARNING:tensorflow:Early stopping conditioned on metric `val_acc` which is not available. Available metrics are: loss,accuracy,val_loss,val_accuracy,lr\n"
          ]
        },
        {
          "output_type": "stream",
          "name": "stdout",
          "text": [
            "\b\b\b\b\b\b\b\b\b\b\b\b\b\b\b\b\b\b\b\b\b\b\b\b\b\b\b\b\b\b\b\b\b\b\b\b\b\b\b\b\b\b\b\b\b\b\b\b\b\b\b\b\b\b\b\b\b\b\b\b\b\b\b\b\b\b\b\b\b\b\b\b\b\b\b\b\b\b\b\b\b\b\b\b\r122/122 [==============================] - 28s 229ms/step - loss: 0.0956 - accuracy: 0.9737 - val_loss: 0.2559 - val_accuracy: 0.9286 - lr: 7.2900e-07\n",
            "Epoch 25/64\n",
            "122/122 [==============================] - ETA: 0s - loss: 0.1104 - accuracy: 0.9655\n",
            "Epoch 25: val_accuracy did not improve from 0.92857\n",
            "\n",
            "Epoch 25: ReduceLROnPlateau reducing learning rate to 2.1870000637136398e-07.\n"
          ]
        },
        {
          "output_type": "stream",
          "name": "stderr",
          "text": [
            "WARNING:tensorflow:Early stopping conditioned on metric `val_acc` which is not available. Available metrics are: loss,accuracy,val_loss,val_accuracy,lr\n"
          ]
        },
        {
          "output_type": "stream",
          "name": "stdout",
          "text": [
            "\b\b\b\b\b\b\b\b\b\b\b\b\b\b\b\b\b\b\b\b\b\b\b\b\b\b\b\b\b\b\b\b\b\b\b\b\b\b\b\b\b\b\b\b\b\b\b\b\b\b\b\b\b\b\b\b\b\b\b\b\b\b\b\b\b\b\b\b\b\b\b\b\b\b\b\b\b\b\b\b\b\b\b\b\r122/122 [==============================] - 27s 223ms/step - loss: 0.1104 - accuracy: 0.9655 - val_loss: 0.2607 - val_accuracy: 0.9286 - lr: 7.2900e-07\n",
            "Epoch 26/64\n",
            "122/122 [==============================] - ETA: 0s - loss: 0.1127 - accuracy: 0.9622\n",
            "Epoch 26: val_accuracy improved from 0.92857 to 0.94286, saving model to ./ct_effnet_best_model.hdf5\n"
          ]
        },
        {
          "output_type": "stream",
          "name": "stderr",
          "text": [
            "WARNING:tensorflow:Early stopping conditioned on metric `val_acc` which is not available. Available metrics are: loss,accuracy,val_loss,val_accuracy,lr\n"
          ]
        },
        {
          "output_type": "stream",
          "name": "stdout",
          "text": [
            "\b\b\b\b\b\b\b\b\b\b\b\b\b\b\b\b\b\b\b\b\b\b\b\b\b\b\b\b\b\b\b\b\b\b\b\b\b\b\b\b\b\b\b\b\b\b\b\b\b\b\b\b\b\b\b\b\b\b\b\b\b\b\b\b\b\b\b\b\b\b\b\b\b\b\b\b\b\b\b\b\b\b\b\b\r122/122 [==============================] - 29s 235ms/step - loss: 0.1127 - accuracy: 0.9622 - val_loss: 0.2001 - val_accuracy: 0.9429 - lr: 2.1870e-07\n",
            "Epoch 27/64\n",
            "122/122 [==============================] - ETA: 0s - loss: 0.1108 - accuracy: 0.9589\n",
            "Epoch 27: val_accuracy did not improve from 0.94286\n"
          ]
        },
        {
          "output_type": "stream",
          "name": "stderr",
          "text": [
            "WARNING:tensorflow:Early stopping conditioned on metric `val_acc` which is not available. Available metrics are: loss,accuracy,val_loss,val_accuracy,lr\n"
          ]
        },
        {
          "output_type": "stream",
          "name": "stdout",
          "text": [
            "\b\b\b\b\b\b\b\b\b\b\b\b\b\b\b\b\b\b\b\b\b\b\b\b\b\b\b\b\b\b\b\b\b\b\b\b\b\b\b\b\b\b\b\b\b\b\b\b\b\b\b\b\b\b\b\b\b\b\b\b\b\b\b\b\b\b\b\b\b\b\b\b\b\b\b\b\b\b\b\b\b\b\b\b\r122/122 [==============================] - 27s 223ms/step - loss: 0.1108 - accuracy: 0.9589 - val_loss: 0.2546 - val_accuracy: 0.9286 - lr: 2.1870e-07\n",
            "Epoch 28/64\n",
            "122/122 [==============================] - ETA: 0s - loss: 0.0999 - accuracy: 0.9720\n",
            "Epoch 28: val_accuracy did not improve from 0.94286\n",
            "\n",
            "Epoch 28: ReduceLROnPlateau reducing learning rate to 6.561000276406048e-08.\n"
          ]
        },
        {
          "output_type": "stream",
          "name": "stderr",
          "text": [
            "WARNING:tensorflow:Early stopping conditioned on metric `val_acc` which is not available. Available metrics are: loss,accuracy,val_loss,val_accuracy,lr\n"
          ]
        },
        {
          "output_type": "stream",
          "name": "stdout",
          "text": [
            "\b\b\b\b\b\b\b\b\b\b\b\b\b\b\b\b\b\b\b\b\b\b\b\b\b\b\b\b\b\b\b\b\b\b\b\b\b\b\b\b\b\b\b\b\b\b\b\b\b\b\b\b\b\b\b\b\b\b\b\b\b\b\b\b\b\b\b\b\b\b\b\b\b\b\b\b\b\b\b\b\b\b\b\b\r122/122 [==============================] - 27s 219ms/step - loss: 0.0999 - accuracy: 0.9720 - val_loss: 0.2526 - val_accuracy: 0.9286 - lr: 2.1870e-07\n",
            "Epoch 29/64\n",
            "122/122 [==============================] - ETA: 0s - loss: 0.0820 - accuracy: 0.9770\n",
            "Epoch 29: val_accuracy did not improve from 0.94286\n"
          ]
        },
        {
          "output_type": "stream",
          "name": "stderr",
          "text": [
            "WARNING:tensorflow:Early stopping conditioned on metric `val_acc` which is not available. Available metrics are: loss,accuracy,val_loss,val_accuracy,lr\n"
          ]
        },
        {
          "output_type": "stream",
          "name": "stdout",
          "text": [
            "\b\b\b\b\b\b\b\b\b\b\b\b\b\b\b\b\b\b\b\b\b\b\b\b\b\b\b\b\b\b\b\b\b\b\b\b\b\b\b\b\b\b\b\b\b\b\b\b\b\b\b\b\b\b\b\b\b\b\b\b\b\b\b\b\b\b\b\b\b\b\b\b\b\b\b\b\b\b\b\b\b\b\b\b\r122/122 [==============================] - 27s 223ms/step - loss: 0.0820 - accuracy: 0.9770 - val_loss: 0.2572 - val_accuracy: 0.9286 - lr: 6.5610e-08\n",
            "Epoch 30/64\n",
            "122/122 [==============================] - ETA: 0s - loss: 0.0753 - accuracy: 0.9836\n",
            "Epoch 30: val_accuracy did not improve from 0.94286\n",
            "\n",
            "Epoch 30: ReduceLROnPlateau reducing learning rate to 1.9683000829218145e-08.\n"
          ]
        },
        {
          "output_type": "stream",
          "name": "stderr",
          "text": [
            "WARNING:tensorflow:Early stopping conditioned on metric `val_acc` which is not available. Available metrics are: loss,accuracy,val_loss,val_accuracy,lr\n"
          ]
        },
        {
          "output_type": "stream",
          "name": "stdout",
          "text": [
            "\b\b\b\b\b\b\b\b\b\b\b\b\b\b\b\b\b\b\b\b\b\b\b\b\b\b\b\b\b\b\b\b\b\b\b\b\b\b\b\b\b\b\b\b\b\b\b\b\b\b\b\b\b\b\b\b\b\b\b\b\b\b\b\b\b\b\b\b\b\b\b\b\b\b\b\b\b\b\b\b\b\b\b\b\r122/122 [==============================] - 27s 221ms/step - loss: 0.0753 - accuracy: 0.9836 - val_loss: 0.2464 - val_accuracy: 0.9286 - lr: 6.5610e-08\n",
            "Epoch 31/64\n",
            "122/122 [==============================] - ETA: 0s - loss: 0.0879 - accuracy: 0.9770\n",
            "Epoch 31: val_accuracy did not improve from 0.94286\n"
          ]
        },
        {
          "output_type": "stream",
          "name": "stderr",
          "text": [
            "WARNING:tensorflow:Early stopping conditioned on metric `val_acc` which is not available. Available metrics are: loss,accuracy,val_loss,val_accuracy,lr\n"
          ]
        },
        {
          "output_type": "stream",
          "name": "stdout",
          "text": [
            "\b\b\b\b\b\b\b\b\b\b\b\b\b\b\b\b\b\b\b\b\b\b\b\b\b\b\b\b\b\b\b\b\b\b\b\b\b\b\b\b\b\b\b\b\b\b\b\b\b\b\b\b\b\b\b\b\b\b\b\b\b\b\b\b\b\b\b\b\b\b\b\b\b\b\b\b\b\b\b\b\b\b\b\b\r122/122 [==============================] - 28s 229ms/step - loss: 0.0879 - accuracy: 0.9770 - val_loss: 0.2543 - val_accuracy: 0.9286 - lr: 1.9683e-08\n",
            "Epoch 32/64\n",
            "122/122 [==============================] - ETA: 0s - loss: 0.0900 - accuracy: 0.9737\n",
            "Epoch 32: val_accuracy did not improve from 0.94286\n",
            "\n",
            "Epoch 32: ReduceLROnPlateau reducing learning rate to 5.904900035602622e-09.\n"
          ]
        },
        {
          "output_type": "stream",
          "name": "stderr",
          "text": [
            "WARNING:tensorflow:Early stopping conditioned on metric `val_acc` which is not available. Available metrics are: loss,accuracy,val_loss,val_accuracy,lr\n"
          ]
        },
        {
          "output_type": "stream",
          "name": "stdout",
          "text": [
            "\b\b\b\b\b\b\b\b\b\b\b\b\b\b\b\b\b\b\b\b\b\b\b\b\b\b\b\b\b\b\b\b\b\b\b\b\b\b\b\b\b\b\b\b\b\b\b\b\b\b\b\b\b\b\b\b\b\b\b\b\b\b\b\b\b\b\b\b\b\b\b\b\b\b\b\b\b\b\b\b\b\b\b\b\r122/122 [==============================] - 27s 220ms/step - loss: 0.0900 - accuracy: 0.9737 - val_loss: 0.2553 - val_accuracy: 0.9286 - lr: 1.9683e-08\n",
            "Epoch 33/64\n",
            "122/122 [==============================] - ETA: 0s - loss: 0.0867 - accuracy: 0.9770\n",
            "Epoch 33: val_accuracy did not improve from 0.94286\n"
          ]
        },
        {
          "output_type": "stream",
          "name": "stderr",
          "text": [
            "WARNING:tensorflow:Early stopping conditioned on metric `val_acc` which is not available. Available metrics are: loss,accuracy,val_loss,val_accuracy,lr\n"
          ]
        },
        {
          "output_type": "stream",
          "name": "stdout",
          "text": [
            "\b\b\b\b\b\b\b\b\b\b\b\b\b\b\b\b\b\b\b\b\b\b\b\b\b\b\b\b\b\b\b\b\b\b\b\b\b\b\b\b\b\b\b\b\b\b\b\b\b\b\b\b\b\b\b\b\b\b\b\b\b\b\b\b\b\b\b\b\b\b\b\b\b\b\b\b\b\b\b\b\b\b\b\b\r122/122 [==============================] - 28s 225ms/step - loss: 0.0867 - accuracy: 0.9770 - val_loss: 0.2548 - val_accuracy: 0.9286 - lr: 5.9049e-09\n",
            "Epoch 34/64\n",
            "122/122 [==============================] - ETA: 0s - loss: 0.1004 - accuracy: 0.9671\n",
            "Epoch 34: val_accuracy did not improve from 0.94286\n",
            "\n",
            "Epoch 34: ReduceLROnPlateau reducing learning rate to 1.7714700373261393e-09.\n"
          ]
        },
        {
          "output_type": "stream",
          "name": "stderr",
          "text": [
            "WARNING:tensorflow:Early stopping conditioned on metric `val_acc` which is not available. Available metrics are: loss,accuracy,val_loss,val_accuracy,lr\n"
          ]
        },
        {
          "output_type": "stream",
          "name": "stdout",
          "text": [
            "\b\b\b\b\b\b\b\b\b\b\b\b\b\b\b\b\b\b\b\b\b\b\b\b\b\b\b\b\b\b\b\b\b\b\b\b\b\b\b\b\b\b\b\b\b\b\b\b\b\b\b\b\b\b\b\b\b\b\b\b\b\b\b\b\b\b\b\b\b\b\b\b\b\b\b\b\b\b\b\b\b\b\b\b\r122/122 [==============================] - 28s 226ms/step - loss: 0.1004 - accuracy: 0.9671 - val_loss: 0.2565 - val_accuracy: 0.9286 - lr: 5.9049e-09\n",
            "Epoch 35/64\n",
            "122/122 [==============================] - ETA: 0s - loss: 0.0938 - accuracy: 0.9720\n",
            "Epoch 35: val_accuracy did not improve from 0.94286\n"
          ]
        },
        {
          "output_type": "stream",
          "name": "stderr",
          "text": [
            "WARNING:tensorflow:Early stopping conditioned on metric `val_acc` which is not available. Available metrics are: loss,accuracy,val_loss,val_accuracy,lr\n"
          ]
        },
        {
          "output_type": "stream",
          "name": "stdout",
          "text": [
            "\b\b\b\b\b\b\b\b\b\b\b\b\b\b\b\b\b\b\b\b\b\b\b\b\b\b\b\b\b\b\b\b\b\b\b\b\b\b\b\b\b\b\b\b\b\b\b\b\b\b\b\b\b\b\b\b\b\b\b\b\b\b\b\b\b\b\b\b\b\b\b\b\b\b\b\b\b\b\b\b\b\b\b\b\r122/122 [==============================] - 28s 229ms/step - loss: 0.0938 - accuracy: 0.9720 - val_loss: 0.2564 - val_accuracy: 0.9286 - lr: 1.7715e-09\n",
            "Epoch 36/64\n",
            "122/122 [==============================] - ETA: 0s - loss: 0.0839 - accuracy: 0.9770\n",
            "Epoch 36: val_accuracy did not improve from 0.94286\n",
            "\n",
            "Epoch 36: ReduceLROnPlateau reducing learning rate to 5.314410245205181e-10.\n"
          ]
        },
        {
          "output_type": "stream",
          "name": "stderr",
          "text": [
            "WARNING:tensorflow:Early stopping conditioned on metric `val_acc` which is not available. Available metrics are: loss,accuracy,val_loss,val_accuracy,lr\n"
          ]
        },
        {
          "output_type": "stream",
          "name": "stdout",
          "text": [
            "\b\b\b\b\b\b\b\b\b\b\b\b\b\b\b\b\b\b\b\b\b\b\b\b\b\b\b\b\b\b\b\b\b\b\b\b\b\b\b\b\b\b\b\b\b\b\b\b\b\b\b\b\b\b\b\b\b\b\b\b\b\b\b\b\b\b\b\b\b\b\b\b\b\b\b\b\b\b\b\b\b\b\b\b\r122/122 [==============================] - 27s 224ms/step - loss: 0.0839 - accuracy: 0.9770 - val_loss: 0.2587 - val_accuracy: 0.9286 - lr: 1.7715e-09\n",
            "Epoch 37/64\n",
            "122/122 [==============================] - ETA: 0s - loss: 0.0754 - accuracy: 0.9803\n",
            "Epoch 37: val_accuracy did not improve from 0.94286\n"
          ]
        },
        {
          "output_type": "stream",
          "name": "stderr",
          "text": [
            "WARNING:tensorflow:Early stopping conditioned on metric `val_acc` which is not available. Available metrics are: loss,accuracy,val_loss,val_accuracy,lr\n"
          ]
        },
        {
          "output_type": "stream",
          "name": "stdout",
          "text": [
            "\b\b\b\b\b\b\b\b\b\b\b\b\b\b\b\b\b\b\b\b\b\b\b\b\b\b\b\b\b\b\b\b\b\b\b\b\b\b\b\b\b\b\b\b\b\b\b\b\b\b\b\b\b\b\b\b\b\b\b\b\b\b\b\b\b\b\b\b\b\b\b\b\b\b\b\b\b\b\b\b\b\b\b\b\r122/122 [==============================] - 27s 225ms/step - loss: 0.0754 - accuracy: 0.9803 - val_loss: 0.2571 - val_accuracy: 0.9286 - lr: 5.3144e-10\n",
            "Epoch 38/64\n",
            "122/122 [==============================] - ETA: 0s - loss: 0.1022 - accuracy: 0.9622\n",
            "Epoch 38: val_accuracy did not improve from 0.94286\n",
            "\n",
            "Epoch 38: ReduceLROnPlateau reducing learning rate to 1.5943230069481729e-10.\n"
          ]
        },
        {
          "output_type": "stream",
          "name": "stderr",
          "text": [
            "WARNING:tensorflow:Early stopping conditioned on metric `val_acc` which is not available. Available metrics are: loss,accuracy,val_loss,val_accuracy,lr\n"
          ]
        },
        {
          "output_type": "stream",
          "name": "stdout",
          "text": [
            "\b\b\b\b\b\b\b\b\b\b\b\b\b\b\b\b\b\b\b\b\b\b\b\b\b\b\b\b\b\b\b\b\b\b\b\b\b\b\b\b\b\b\b\b\b\b\b\b\b\b\b\b\b\b\b\b\b\b\b\b\b\b\b\b\b\b\b\b\b\b\b\b\b\b\b\b\b\b\b\b\b\b\b\b\r122/122 [==============================] - 28s 225ms/step - loss: 0.1022 - accuracy: 0.9622 - val_loss: 0.2571 - val_accuracy: 0.9286 - lr: 5.3144e-10\n",
            "Epoch 39/64\n",
            "122/122 [==============================] - ETA: 0s - loss: 0.0865 - accuracy: 0.9737\n",
            "Epoch 39: val_accuracy did not improve from 0.94286\n"
          ]
        },
        {
          "output_type": "stream",
          "name": "stderr",
          "text": [
            "WARNING:tensorflow:Early stopping conditioned on metric `val_acc` which is not available. Available metrics are: loss,accuracy,val_loss,val_accuracy,lr\n"
          ]
        },
        {
          "output_type": "stream",
          "name": "stdout",
          "text": [
            "\b\b\b\b\b\b\b\b\b\b\b\b\b\b\b\b\b\b\b\b\b\b\b\b\b\b\b\b\b\b\b\b\b\b\b\b\b\b\b\b\b\b\b\b\b\b\b\b\b\b\b\b\b\b\b\b\b\b\b\b\b\b\b\b\b\b\b\b\b\b\b\b\b\b\b\b\b\b\b\b\b\b\b\b\r122/122 [==============================] - 27s 220ms/step - loss: 0.0865 - accuracy: 0.9737 - val_loss: 0.2545 - val_accuracy: 0.9286 - lr: 1.5943e-10\n",
            "Epoch 40/64\n",
            "122/122 [==============================] - ETA: 0s - loss: 0.0911 - accuracy: 0.9753\n",
            "Epoch 40: val_accuracy did not improve from 0.94286\n",
            "\n",
            "Epoch 40: ReduceLROnPlateau reducing learning rate to 4.7829690208445185e-11.\n"
          ]
        },
        {
          "output_type": "stream",
          "name": "stderr",
          "text": [
            "WARNING:tensorflow:Early stopping conditioned on metric `val_acc` which is not available. Available metrics are: loss,accuracy,val_loss,val_accuracy,lr\n"
          ]
        },
        {
          "output_type": "stream",
          "name": "stdout",
          "text": [
            "\b\b\b\b\b\b\b\b\b\b\b\b\b\b\b\b\b\b\b\b\b\b\b\b\b\b\b\b\b\b\b\b\b\b\b\b\b\b\b\b\b\b\b\b\b\b\b\b\b\b\b\b\b\b\b\b\b\b\b\b\b\b\b\b\b\b\b\b\b\b\b\b\b\b\b\b\b\b\b\b\b\b\b\b\r122/122 [==============================] - 27s 221ms/step - loss: 0.0911 - accuracy: 0.9753 - val_loss: 0.2181 - val_accuracy: 0.9429 - lr: 1.5943e-10\n",
            "Epoch 41/64\n",
            "122/122 [==============================] - ETA: 0s - loss: 0.0936 - accuracy: 0.9704\n",
            "Epoch 41: val_accuracy did not improve from 0.94286\n"
          ]
        },
        {
          "output_type": "stream",
          "name": "stderr",
          "text": [
            "WARNING:tensorflow:Early stopping conditioned on metric `val_acc` which is not available. Available metrics are: loss,accuracy,val_loss,val_accuracy,lr\n"
          ]
        },
        {
          "output_type": "stream",
          "name": "stdout",
          "text": [
            "\b\b\b\b\b\b\b\b\b\b\b\b\b\b\b\b\b\b\b\b\b\b\b\b\b\b\b\b\b\b\b\b\b\b\b\b\b\b\b\b\b\b\b\b\b\b\b\b\b\b\b\b\b\b\b\b\b\b\b\b\b\b\b\b\b\b\b\b\b\b\b\b\b\b\b\b\b\b\b\b\b\b\b\b\r122/122 [==============================] - 27s 221ms/step - loss: 0.0936 - accuracy: 0.9704 - val_loss: 0.2603 - val_accuracy: 0.9286 - lr: 4.7830e-11\n",
            "Epoch 42/64\n",
            "122/122 [==============================] - ETA: 0s - loss: 0.0882 - accuracy: 0.9753\n",
            "Epoch 42: val_accuracy did not improve from 0.94286\n",
            "\n",
            "Epoch 42: ReduceLROnPlateau reducing learning rate to 1.434890747886719e-11.\n"
          ]
        },
        {
          "output_type": "stream",
          "name": "stderr",
          "text": [
            "WARNING:tensorflow:Early stopping conditioned on metric `val_acc` which is not available. Available metrics are: loss,accuracy,val_loss,val_accuracy,lr\n"
          ]
        },
        {
          "output_type": "stream",
          "name": "stdout",
          "text": [
            "\b\b\b\b\b\b\b\b\b\b\b\b\b\b\b\b\b\b\b\b\b\b\b\b\b\b\b\b\b\b\b\b\b\b\b\b\b\b\b\b\b\b\b\b\b\b\b\b\b\b\b\b\b\b\b\b\b\b\b\b\b\b\b\b\b\b\b\b\b\b\b\b\b\b\b\b\b\b\b\b\b\b\b\b\r122/122 [==============================] - 28s 228ms/step - loss: 0.0882 - accuracy: 0.9753 - val_loss: 0.2553 - val_accuracy: 0.9286 - lr: 4.7830e-11\n",
            "Epoch 43/64\n",
            "122/122 [==============================] - ETA: 0s - loss: 0.0643 - accuracy: 0.9868\n",
            "Epoch 43: val_accuracy did not improve from 0.94286\n"
          ]
        },
        {
          "output_type": "stream",
          "name": "stderr",
          "text": [
            "WARNING:tensorflow:Early stopping conditioned on metric `val_acc` which is not available. Available metrics are: loss,accuracy,val_loss,val_accuracy,lr\n"
          ]
        },
        {
          "output_type": "stream",
          "name": "stdout",
          "text": [
            "\b\b\b\b\b\b\b\b\b\b\b\b\b\b\b\b\b\b\b\b\b\b\b\b\b\b\b\b\b\b\b\b\b\b\b\b\b\b\b\b\b\b\b\b\b\b\b\b\b\b\b\b\b\b\b\b\b\b\b\b\b\b\b\b\b\b\b\b\b\b\b\b\b\b\b\b\b\b\b\b\b\b\b\b\r122/122 [==============================] - 27s 221ms/step - loss: 0.0643 - accuracy: 0.9868 - val_loss: 0.2587 - val_accuracy: 0.9286 - lr: 1.4349e-11\n",
            "Epoch 44/64\n",
            "122/122 [==============================] - ETA: 0s - loss: 0.1227 - accuracy: 0.9638\n",
            "Epoch 44: val_accuracy did not improve from 0.94286\n",
            "\n",
            "Epoch 44: ReduceLROnPlateau reducing learning rate to 4.304672243660157e-12.\n"
          ]
        },
        {
          "output_type": "stream",
          "name": "stderr",
          "text": [
            "WARNING:tensorflow:Early stopping conditioned on metric `val_acc` which is not available. Available metrics are: loss,accuracy,val_loss,val_accuracy,lr\n"
          ]
        },
        {
          "output_type": "stream",
          "name": "stdout",
          "text": [
            "\b\b\b\b\b\b\b\b\b\b\b\b\b\b\b\b\b\b\b\b\b\b\b\b\b\b\b\b\b\b\b\b\b\b\b\b\b\b\b\b\b\b\b\b\b\b\b\b\b\b\b\b\b\b\b\b\b\b\b\b\b\b\b\b\b\b\b\b\b\b\b\b\b\b\b\b\b\b\b\b\b\b\b\b\r122/122 [==============================] - 27s 220ms/step - loss: 0.1227 - accuracy: 0.9638 - val_loss: 0.2599 - val_accuracy: 0.9286 - lr: 1.4349e-11\n",
            "Epoch 45/64\n",
            "122/122 [==============================] - ETA: 0s - loss: 0.1006 - accuracy: 0.9688\n",
            "Epoch 45: val_accuracy did not improve from 0.94286\n"
          ]
        },
        {
          "output_type": "stream",
          "name": "stderr",
          "text": [
            "WARNING:tensorflow:Early stopping conditioned on metric `val_acc` which is not available. Available metrics are: loss,accuracy,val_loss,val_accuracy,lr\n"
          ]
        },
        {
          "output_type": "stream",
          "name": "stdout",
          "text": [
            "\b\b\b\b\b\b\b\b\b\b\b\b\b\b\b\b\b\b\b\b\b\b\b\b\b\b\b\b\b\b\b\b\b\b\b\b\b\b\b\b\b\b\b\b\b\b\b\b\b\b\b\b\b\b\b\b\b\b\b\b\b\b\b\b\b\b\b\b\b\b\b\b\b\b\b\b\b\b\b\b\b\b\b\b\r122/122 [==============================] - 27s 220ms/step - loss: 0.1006 - accuracy: 0.9688 - val_loss: 0.2565 - val_accuracy: 0.9286 - lr: 4.3047e-12\n",
            "Epoch 46/64\n",
            "122/122 [==============================] - ETA: 0s - loss: 0.1028 - accuracy: 0.9720\n",
            "Epoch 46: val_accuracy did not improve from 0.94286\n",
            "\n",
            "Epoch 46: ReduceLROnPlateau reducing learning rate to 1.2914016210563428e-12.\n"
          ]
        },
        {
          "output_type": "stream",
          "name": "stderr",
          "text": [
            "WARNING:tensorflow:Early stopping conditioned on metric `val_acc` which is not available. Available metrics are: loss,accuracy,val_loss,val_accuracy,lr\n"
          ]
        },
        {
          "output_type": "stream",
          "name": "stdout",
          "text": [
            "\b\b\b\b\b\b\b\b\b\b\b\b\b\b\b\b\b\b\b\b\b\b\b\b\b\b\b\b\b\b\b\b\b\b\b\b\b\b\b\b\b\b\b\b\b\b\b\b\b\b\b\b\b\b\b\b\b\b\b\b\b\b\b\b\b\b\b\b\b\b\b\b\b\b\b\b\b\b\b\b\b\b\b\b\r122/122 [==============================] - 27s 221ms/step - loss: 0.1028 - accuracy: 0.9720 - val_loss: 0.2569 - val_accuracy: 0.9286 - lr: 4.3047e-12\n",
            "Epoch 47/64\n",
            "122/122 [==============================] - ETA: 0s - loss: 0.0890 - accuracy: 0.9753\n",
            "Epoch 47: val_accuracy did not improve from 0.94286\n"
          ]
        },
        {
          "output_type": "stream",
          "name": "stderr",
          "text": [
            "WARNING:tensorflow:Early stopping conditioned on metric `val_acc` which is not available. Available metrics are: loss,accuracy,val_loss,val_accuracy,lr\n"
          ]
        },
        {
          "output_type": "stream",
          "name": "stdout",
          "text": [
            "\b\b\b\b\b\b\b\b\b\b\b\b\b\b\b\b\b\b\b\b\b\b\b\b\b\b\b\b\b\b\b\b\b\b\b\b\b\b\b\b\b\b\b\b\b\b\b\b\b\b\b\b\b\b\b\b\b\b\b\b\b\b\b\b\b\b\b\b\b\b\b\b\b\b\b\b\b\b\b\b\b\b\b\b\r122/122 [==============================] - 28s 228ms/step - loss: 0.0890 - accuracy: 0.9753 - val_loss: 0.2587 - val_accuracy: 0.9286 - lr: 1.2914e-12\n",
            "Epoch 48/64\n",
            "122/122 [==============================] - ETA: 0s - loss: 0.0899 - accuracy: 0.9786\n",
            "Epoch 48: val_accuracy did not improve from 0.94286\n",
            "\n",
            "Epoch 48: ReduceLROnPlateau reducing learning rate to 3.874204993273289e-13.\n"
          ]
        },
        {
          "output_type": "stream",
          "name": "stderr",
          "text": [
            "WARNING:tensorflow:Early stopping conditioned on metric `val_acc` which is not available. Available metrics are: loss,accuracy,val_loss,val_accuracy,lr\n"
          ]
        },
        {
          "output_type": "stream",
          "name": "stdout",
          "text": [
            "\b\b\b\b\b\b\b\b\b\b\b\b\b\b\b\b\b\b\b\b\b\b\b\b\b\b\b\b\b\b\b\b\b\b\b\b\b\b\b\b\b\b\b\b\b\b\b\b\b\b\b\b\b\b\b\b\b\b\b\b\b\b\b\b\b\b\b\b\b\b\b\b\b\b\b\b\b\b\b\b\b\b\b\b\r122/122 [==============================] - 27s 219ms/step - loss: 0.0899 - accuracy: 0.9786 - val_loss: 0.2538 - val_accuracy: 0.9286 - lr: 1.2914e-12\n",
            "Epoch 49/64\n",
            "122/122 [==============================] - ETA: 0s - loss: 0.1091 - accuracy: 0.9638\n",
            "Epoch 49: val_accuracy did not improve from 0.94286\n"
          ]
        },
        {
          "output_type": "stream",
          "name": "stderr",
          "text": [
            "WARNING:tensorflow:Early stopping conditioned on metric `val_acc` which is not available. Available metrics are: loss,accuracy,val_loss,val_accuracy,lr\n"
          ]
        },
        {
          "output_type": "stream",
          "name": "stdout",
          "text": [
            "\b\b\b\b\b\b\b\b\b\b\b\b\b\b\b\b\b\b\b\b\b\b\b\b\b\b\b\b\b\b\b\b\b\b\b\b\b\b\b\b\b\b\b\b\b\b\b\b\b\b\b\b\b\b\b\b\b\b\b\b\b\b\b\b\b\b\b\b\b\b\b\b\b\b\b\b\b\b\b\b\b\b\b\b\r122/122 [==============================] - 27s 222ms/step - loss: 0.1091 - accuracy: 0.9638 - val_loss: 0.2546 - val_accuracy: 0.9286 - lr: 3.8742e-13\n",
            "Epoch 50/64\n",
            "122/122 [==============================] - ETA: 0s - loss: 0.0869 - accuracy: 0.9819\n",
            "Epoch 50: val_accuracy did not improve from 0.94286\n",
            "\n",
            "Epoch 50: ReduceLROnPlateau reducing learning rate to 1.162261530508052e-13.\n"
          ]
        },
        {
          "output_type": "stream",
          "name": "stderr",
          "text": [
            "WARNING:tensorflow:Early stopping conditioned on metric `val_acc` which is not available. Available metrics are: loss,accuracy,val_loss,val_accuracy,lr\n"
          ]
        },
        {
          "output_type": "stream",
          "name": "stdout",
          "text": [
            "\b\b\b\b\b\b\b\b\b\b\b\b\b\b\b\b\b\b\b\b\b\b\b\b\b\b\b\b\b\b\b\b\b\b\b\b\b\b\b\b\b\b\b\b\b\b\b\b\b\b\b\b\b\b\b\b\b\b\b\b\b\b\b\b\b\b\b\b\b\b\b\b\b\b\b\b\b\b\b\b\b\b\b\b\r122/122 [==============================] - 27s 220ms/step - loss: 0.0869 - accuracy: 0.9819 - val_loss: 0.2540 - val_accuracy: 0.9286 - lr: 3.8742e-13\n",
            "Epoch 51/64\n",
            "122/122 [==============================] - ETA: 0s - loss: 0.0822 - accuracy: 0.9688\n",
            "Epoch 51: val_accuracy did not improve from 0.94286\n"
          ]
        },
        {
          "output_type": "stream",
          "name": "stderr",
          "text": [
            "WARNING:tensorflow:Early stopping conditioned on metric `val_acc` which is not available. Available metrics are: loss,accuracy,val_loss,val_accuracy,lr\n"
          ]
        },
        {
          "output_type": "stream",
          "name": "stdout",
          "text": [
            "\b\b\b\b\b\b\b\b\b\b\b\b\b\b\b\b\b\b\b\b\b\b\b\b\b\b\b\b\b\b\b\b\b\b\b\b\b\b\b\b\b\b\b\b\b\b\b\b\b\b\b\b\b\b\b\b\b\b\b\b\b\b\b\b\b\b\b\b\b\b\b\b\b\b\b\b\b\b\b\b\b\b\b\b\r122/122 [==============================] - 27s 220ms/step - loss: 0.0822 - accuracy: 0.9688 - val_loss: 0.2562 - val_accuracy: 0.9286 - lr: 1.1623e-13\n",
            "Epoch 52/64\n",
            "122/122 [==============================] - ETA: 0s - loss: 0.0959 - accuracy: 0.9688\n",
            "Epoch 52: val_accuracy did not improve from 0.94286\n",
            "\n",
            "Epoch 52: ReduceLROnPlateau reducing learning rate to 3.4867844288938296e-14.\n"
          ]
        },
        {
          "output_type": "stream",
          "name": "stderr",
          "text": [
            "WARNING:tensorflow:Early stopping conditioned on metric `val_acc` which is not available. Available metrics are: loss,accuracy,val_loss,val_accuracy,lr\n"
          ]
        },
        {
          "output_type": "stream",
          "name": "stdout",
          "text": [
            "\b\b\b\b\b\b\b\b\b\b\b\b\b\b\b\b\b\b\b\b\b\b\b\b\b\b\b\b\b\b\b\b\b\b\b\b\b\b\b\b\b\b\b\b\b\b\b\b\b\b\b\b\b\b\b\b\b\b\b\b\b\b\b\b\b\b\b\b\b\b\b\b\b\b\b\b\b\b\b\b\b\b\b\b\r122/122 [==============================] - 27s 222ms/step - loss: 0.0959 - accuracy: 0.9688 - val_loss: 0.2498 - val_accuracy: 0.9286 - lr: 1.1623e-13\n",
            "Epoch 53/64\n",
            "122/122 [==============================] - ETA: 0s - loss: 0.0858 - accuracy: 0.9638\n",
            "Epoch 53: val_accuracy did not improve from 0.94286\n"
          ]
        },
        {
          "output_type": "stream",
          "name": "stderr",
          "text": [
            "WARNING:tensorflow:Early stopping conditioned on metric `val_acc` which is not available. Available metrics are: loss,accuracy,val_loss,val_accuracy,lr\n"
          ]
        },
        {
          "output_type": "stream",
          "name": "stdout",
          "text": [
            "\b\b\b\b\b\b\b\b\b\b\b\b\b\b\b\b\b\b\b\b\b\b\b\b\b\b\b\b\b\b\b\b\b\b\b\b\b\b\b\b\b\b\b\b\b\b\b\b\b\b\b\b\b\b\b\b\b\b\b\b\b\b\b\b\b\b\b\b\b\b\b\b\b\b\b\b\b\b\b\b\b\b\b\b\r122/122 [==============================] - 27s 220ms/step - loss: 0.0858 - accuracy: 0.9638 - val_loss: 0.2539 - val_accuracy: 0.9286 - lr: 3.4868e-14\n",
            "Epoch 54/64\n",
            "122/122 [==============================] - ETA: 0s - loss: 0.0717 - accuracy: 0.9852\n",
            "Epoch 54: val_accuracy did not improve from 0.94286\n",
            "\n",
            "Epoch 54: ReduceLROnPlateau reducing learning rate to 1.0460353083393582e-14.\n"
          ]
        },
        {
          "output_type": "stream",
          "name": "stderr",
          "text": [
            "WARNING:tensorflow:Early stopping conditioned on metric `val_acc` which is not available. Available metrics are: loss,accuracy,val_loss,val_accuracy,lr\n"
          ]
        },
        {
          "output_type": "stream",
          "name": "stdout",
          "text": [
            "\b\b\b\b\b\b\b\b\b\b\b\b\b\b\b\b\b\b\b\b\b\b\b\b\b\b\b\b\b\b\b\b\b\b\b\b\b\b\b\b\b\b\b\b\b\b\b\b\b\b\b\b\b\b\b\b\b\b\b\b\b\b\b\b\b\b\b\b\b\b\b\b\b\b\b\b\b\b\b\b\b\b\b\b\r122/122 [==============================] - 27s 219ms/step - loss: 0.0717 - accuracy: 0.9852 - val_loss: 0.2530 - val_accuracy: 0.9286 - lr: 3.4868e-14\n",
            "Epoch 55/64\n",
            "122/122 [==============================] - ETA: 0s - loss: 0.0970 - accuracy: 0.9671\n",
            "Epoch 55: val_accuracy did not improve from 0.94286\n"
          ]
        },
        {
          "output_type": "stream",
          "name": "stderr",
          "text": [
            "WARNING:tensorflow:Early stopping conditioned on metric `val_acc` which is not available. Available metrics are: loss,accuracy,val_loss,val_accuracy,lr\n"
          ]
        },
        {
          "output_type": "stream",
          "name": "stdout",
          "text": [
            "\b\b\b\b\b\b\b\b\b\b\b\b\b\b\b\b\b\b\b\b\b\b\b\b\b\b\b\b\b\b\b\b\b\b\b\b\b\b\b\b\b\b\b\b\b\b\b\b\b\b\b\b\b\b\b\b\b\b\b\b\b\b\b\b\b\b\b\b\b\b\b\b\b\b\b\b\b\b\b\b\b\b\b\b\r122/122 [==============================] - 27s 223ms/step - loss: 0.0970 - accuracy: 0.9671 - val_loss: 0.2565 - val_accuracy: 0.9286 - lr: 1.0460e-14\n",
            "Epoch 56/64\n",
            "122/122 [==============================] - ETA: 0s - loss: 0.1031 - accuracy: 0.9671\n",
            "Epoch 56: val_accuracy did not improve from 0.94286\n",
            "\n",
            "Epoch 56: ReduceLROnPlateau reducing learning rate to 3.138105874196098e-15.\n"
          ]
        },
        {
          "output_type": "stream",
          "name": "stderr",
          "text": [
            "WARNING:tensorflow:Early stopping conditioned on metric `val_acc` which is not available. Available metrics are: loss,accuracy,val_loss,val_accuracy,lr\n"
          ]
        },
        {
          "output_type": "stream",
          "name": "stdout",
          "text": [
            "\b\b\b\b\b\b\b\b\b\b\b\b\b\b\b\b\b\b\b\b\b\b\b\b\b\b\b\b\b\b\b\b\b\b\b\b\b\b\b\b\b\b\b\b\b\b\b\b\b\b\b\b\b\b\b\b\b\b\b\b\b\b\b\b\b\b\b\b\b\b\b\b\b\b\b\b\b\b\b\b\b\b\b\b\r122/122 [==============================] - 27s 219ms/step - loss: 0.1031 - accuracy: 0.9671 - val_loss: 0.2515 - val_accuracy: 0.9286 - lr: 1.0460e-14\n",
            "Epoch 57/64\n",
            "122/122 [==============================] - ETA: 0s - loss: 0.1190 - accuracy: 0.9622\n",
            "Epoch 57: val_accuracy did not improve from 0.94286\n"
          ]
        },
        {
          "output_type": "stream",
          "name": "stderr",
          "text": [
            "WARNING:tensorflow:Early stopping conditioned on metric `val_acc` which is not available. Available metrics are: loss,accuracy,val_loss,val_accuracy,lr\n"
          ]
        },
        {
          "output_type": "stream",
          "name": "stdout",
          "text": [
            "\b\b\b\b\b\b\b\b\b\b\b\b\b\b\b\b\b\b\b\b\b\b\b\b\b\b\b\b\b\b\b\b\b\b\b\b\b\b\b\b\b\b\b\b\b\b\b\b\b\b\b\b\b\b\b\b\b\b\b\b\b\b\b\b\b\b\b\b\b\b\b\b\b\b\b\b\b\b\b\b\b\b\b\b\r122/122 [==============================] - 27s 219ms/step - loss: 0.1190 - accuracy: 0.9622 - val_loss: 0.2480 - val_accuracy: 0.9286 - lr: 3.1381e-15\n",
            "Epoch 58/64\n",
            "122/122 [==============================] - ETA: 0s - loss: 0.0798 - accuracy: 0.9786\n",
            "Epoch 58: val_accuracy did not improve from 0.94286\n",
            "\n",
            "Epoch 58: ReduceLROnPlateau reducing learning rate to 9.414317622588293e-16.\n"
          ]
        },
        {
          "output_type": "stream",
          "name": "stderr",
          "text": [
            "WARNING:tensorflow:Early stopping conditioned on metric `val_acc` which is not available. Available metrics are: loss,accuracy,val_loss,val_accuracy,lr\n"
          ]
        },
        {
          "output_type": "stream",
          "name": "stdout",
          "text": [
            "\b\b\b\b\b\b\b\b\b\b\b\b\b\b\b\b\b\b\b\b\b\b\b\b\b\b\b\b\b\b\b\b\b\b\b\b\b\b\b\b\b\b\b\b\b\b\b\b\b\b\b\b\b\b\b\b\b\b\b\b\b\b\b\b\b\b\b\b\b\b\b\b\b\b\b\b\b\b\b\b\b\b\b\b\r122/122 [==============================] - 27s 223ms/step - loss: 0.0798 - accuracy: 0.9786 - val_loss: 0.2529 - val_accuracy: 0.9286 - lr: 3.1381e-15\n",
            "Epoch 59/64\n",
            "122/122 [==============================] - ETA: 0s - loss: 0.0947 - accuracy: 0.9803\n",
            "Epoch 59: val_accuracy did not improve from 0.94286\n"
          ]
        },
        {
          "output_type": "stream",
          "name": "stderr",
          "text": [
            "WARNING:tensorflow:Early stopping conditioned on metric `val_acc` which is not available. Available metrics are: loss,accuracy,val_loss,val_accuracy,lr\n"
          ]
        },
        {
          "output_type": "stream",
          "name": "stdout",
          "text": [
            "\b\b\b\b\b\b\b\b\b\b\b\b\b\b\b\b\b\b\b\b\b\b\b\b\b\b\b\b\b\b\b\b\b\b\b\b\b\b\b\b\b\b\b\b\b\b\b\b\b\b\b\b\b\b\b\b\b\b\b\b\b\b\b\b\b\b\b\b\b\b\b\b\b\b\b\b\b\b\b\b\b\b\b\b\r122/122 [==============================] - 27s 224ms/step - loss: 0.0947 - accuracy: 0.9803 - val_loss: 0.2569 - val_accuracy: 0.9286 - lr: 9.4143e-16\n",
            "Epoch 60/64\n",
            "122/122 [==============================] - ETA: 0s - loss: 0.0923 - accuracy: 0.9655\n",
            "Epoch 60: val_accuracy did not improve from 0.94286\n",
            "\n",
            "Epoch 60: ReduceLROnPlateau reducing learning rate to 2.8242954138314303e-16.\n"
          ]
        },
        {
          "output_type": "stream",
          "name": "stderr",
          "text": [
            "WARNING:tensorflow:Early stopping conditioned on metric `val_acc` which is not available. Available metrics are: loss,accuracy,val_loss,val_accuracy,lr\n"
          ]
        },
        {
          "output_type": "stream",
          "name": "stdout",
          "text": [
            "\b\b\b\b\b\b\b\b\b\b\b\b\b\b\b\b\b\b\b\b\b\b\b\b\b\b\b\b\b\b\b\b\b\b\b\b\b\b\b\b\b\b\b\b\b\b\b\b\b\b\b\b\b\b\b\b\b\b\b\b\b\b\b\b\b\b\b\b\b\b\b\b\b\b\b\b\b\b\b\b\b\b\b\b\r122/122 [==============================] - 27s 219ms/step - loss: 0.0923 - accuracy: 0.9655 - val_loss: 0.2576 - val_accuracy: 0.9286 - lr: 9.4143e-16\n",
            "Epoch 61/64\n",
            "122/122 [==============================] - ETA: 0s - loss: 0.0896 - accuracy: 0.9753\n",
            "Epoch 61: val_accuracy did not improve from 0.94286\n"
          ]
        },
        {
          "output_type": "stream",
          "name": "stderr",
          "text": [
            "WARNING:tensorflow:Early stopping conditioned on metric `val_acc` which is not available. Available metrics are: loss,accuracy,val_loss,val_accuracy,lr\n"
          ]
        },
        {
          "output_type": "stream",
          "name": "stdout",
          "text": [
            "\b\b\b\b\b\b\b\b\b\b\b\b\b\b\b\b\b\b\b\b\b\b\b\b\b\b\b\b\b\b\b\b\b\b\b\b\b\b\b\b\b\b\b\b\b\b\b\b\b\b\b\b\b\b\b\b\b\b\b\b\b\b\b\b\b\b\b\b\b\b\b\b\b\b\b\b\b\b\b\b\b\b\b\b\r122/122 [==============================] - 27s 219ms/step - loss: 0.0896 - accuracy: 0.9753 - val_loss: 0.2498 - val_accuracy: 0.9286 - lr: 2.8243e-16\n",
            "Epoch 62/64\n",
            "122/122 [==============================] - ETA: 0s - loss: 0.0955 - accuracy: 0.9753\n",
            "Epoch 62: val_accuracy did not improve from 0.94286\n",
            "\n",
            "Epoch 62: ReduceLROnPlateau reducing learning rate to 8.472885923856935e-17.\n"
          ]
        },
        {
          "output_type": "stream",
          "name": "stderr",
          "text": [
            "WARNING:tensorflow:Early stopping conditioned on metric `val_acc` which is not available. Available metrics are: loss,accuracy,val_loss,val_accuracy,lr\n"
          ]
        },
        {
          "output_type": "stream",
          "name": "stdout",
          "text": [
            "\b\b\b\b\b\b\b\b\b\b\b\b\b\b\b\b\b\b\b\b\b\b\b\b\b\b\b\b\b\b\b\b\b\b\b\b\b\b\b\b\b\b\b\b\b\b\b\b\b\b\b\b\b\b\b\b\b\b\b\b\b\b\b\b\b\b\b\b\b\b\b\b\b\b\b\b\b\b\b\b\b\b\b\b\r122/122 [==============================] - 27s 219ms/step - loss: 0.0955 - accuracy: 0.9753 - val_loss: 0.2554 - val_accuracy: 0.9286 - lr: 2.8243e-16\n",
            "Epoch 63/64\n",
            "122/122 [==============================] - ETA: 0s - loss: 0.0800 - accuracy: 0.9819\n",
            "Epoch 63: val_accuracy did not improve from 0.94286\n"
          ]
        },
        {
          "output_type": "stream",
          "name": "stderr",
          "text": [
            "WARNING:tensorflow:Early stopping conditioned on metric `val_acc` which is not available. Available metrics are: loss,accuracy,val_loss,val_accuracy,lr\n"
          ]
        },
        {
          "output_type": "stream",
          "name": "stdout",
          "text": [
            "\b\b\b\b\b\b\b\b\b\b\b\b\b\b\b\b\b\b\b\b\b\b\b\b\b\b\b\b\b\b\b\b\b\b\b\b\b\b\b\b\b\b\b\b\b\b\b\b\b\b\b\b\b\b\b\b\b\b\b\b\b\b\b\b\b\b\b\b\b\b\b\b\b\b\b\b\b\b\b\b\b\b\b\b\r122/122 [==============================] - 27s 218ms/step - loss: 0.0800 - accuracy: 0.9819 - val_loss: 0.2007 - val_accuracy: 0.9429 - lr: 8.4729e-17\n",
            "Epoch 64/64\n",
            "122/122 [==============================] - ETA: 0s - loss: 0.0857 - accuracy: 0.9753\n",
            "Epoch 64: val_accuracy did not improve from 0.94286\n",
            "\n",
            "Epoch 64: ReduceLROnPlateau reducing learning rate to 2.541865737452411e-17.\n"
          ]
        },
        {
          "output_type": "stream",
          "name": "stderr",
          "text": [
            "WARNING:tensorflow:Early stopping conditioned on metric `val_acc` which is not available. Available metrics are: loss,accuracy,val_loss,val_accuracy,lr\n"
          ]
        },
        {
          "output_type": "stream",
          "name": "stdout",
          "text": [
            "\b\b\b\b\b\b\b\b\b\b\b\b\b\b\b\b\b\b\b\b\b\b\b\b\b\b\b\b\b\b\b\b\b\b\b\b\b\b\b\b\b\b\b\b\b\b\b\b\b\b\b\b\b\b\b\b\b\b\b\b\b\b\b\b\b\b\b\b\b\b\b\b\b\b\b\b\b\b\b\b\b\b\b\b\r122/122 [==============================] - 27s 220ms/step - loss: 0.0857 - accuracy: 0.9753 - val_loss: 0.2022 - val_accuracy: 0.9429 - lr: 8.4729e-17\n"
          ]
        }
      ]
    },
    {
      "cell_type": "code",
      "source": [],
      "metadata": {
        "id": "LsqNP4APa2_q"
      },
      "execution_count": null,
      "outputs": []
    },
    {
      "cell_type": "markdown",
      "source": [
        "# Model Evaluation"
      ],
      "metadata": {
        "id": "imx-9emhbAAe"
      }
    },
    {
      "cell_type": "code",
      "source": [
        "# Loading the Best Fit Model\n",
        "model_eff = load_model(\"./ct_effnet_best_model.hdf5\")\n",
        "# Checking the Accuracy of the Model\n",
        "accuracy_effnet = model_eff.evaluate_generator(generator= test_data)[1]\n",
        "loss_effnet = model_eff.evaluate_generator(generator= test_data)[0]\n",
        "print(f\"The accuracy of the model is = {accuracy_effnet*100} %\")\n",
        "print(f\"The loss of the model is = {loss_effnet} %\")"
      ],
      "metadata": {
        "colab": {
          "base_uri": "https://localhost:8080/"
        },
        "id": "HDC6OmcHbCKe",
        "outputId": "b9ed9d8d-a2a8-41cb-814a-3903df04265a"
      },
      "execution_count": 18,
      "outputs": [
        {
          "output_type": "stream",
          "name": "stderr",
          "text": [
            "<ipython-input-18-8fd514e21431>:4: UserWarning: `Model.evaluate_generator` is deprecated and will be removed in a future version. Please use `Model.evaluate`, which supports generators.\n",
            "  accuracy_effnet = model_eff.evaluate_generator(generator= test_data)[1]\n",
            "<ipython-input-18-8fd514e21431>:5: UserWarning: `Model.evaluate_generator` is deprecated and will be removed in a future version. Please use `Model.evaluate`, which supports generators.\n",
            "  loss_effnet = model_eff.evaluate_generator(generator= test_data)[0]\n"
          ]
        },
        {
          "output_type": "stream",
          "name": "stdout",
          "text": [
            "The accuracy of the model is = 94.60317492485046 %\n",
            "The loss of the model is = 0.24305105209350586 %\n"
          ]
        }
      ]
    }
  ]
}