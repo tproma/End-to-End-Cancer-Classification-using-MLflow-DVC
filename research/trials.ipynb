{
 "cells": [
  {
   "cell_type": "code",
   "execution_count": 1,
   "metadata": {},
   "outputs": [],
   "source": [
    "import os"
   ]
  },
  {
   "cell_type": "code",
   "execution_count": 2,
   "metadata": {},
   "outputs": [
    {
     "data": {
      "text/plain": [
       "'d:\\\\A_Category\\\\iNeuron\\\\End-to-End-Cancer-Classification-using-MLflow-DVC\\\\research'"
      ]
     },
     "execution_count": 2,
     "metadata": {},
     "output_type": "execute_result"
    }
   ],
   "source": [
    "%pwd"
   ]
  },
  {
   "cell_type": "code",
   "execution_count": 3,
   "metadata": {},
   "outputs": [],
   "source": [
    "import gdown"
   ]
  },
  {
   "cell_type": "code",
   "execution_count": 4,
   "metadata": {},
   "outputs": [
    {
     "name": "stdout",
     "output_type": "stream",
     "text": [
      "Requirement already satisfied: gdown in d:\\a_category\\ineuron\\end-to-end-cancer-classification-using-mlflow-dvc\\venv\\lib\\site-packages (5.1.0)\n",
      "Requirement already satisfied: beautifulsoup4 in d:\\a_category\\ineuron\\end-to-end-cancer-classification-using-mlflow-dvc\\venv\\lib\\site-packages (from gdown) (4.12.2)\n",
      "Requirement already satisfied: filelock in d:\\a_category\\ineuron\\end-to-end-cancer-classification-using-mlflow-dvc\\venv\\lib\\site-packages (from gdown) (3.13.1)\n",
      "Requirement already satisfied: requests[socks] in d:\\a_category\\ineuron\\end-to-end-cancer-classification-using-mlflow-dvc\\venv\\lib\\site-packages (from gdown) (2.31.0)\n",
      "Requirement already satisfied: tqdm in d:\\a_category\\ineuron\\end-to-end-cancer-classification-using-mlflow-dvc\\venv\\lib\\site-packages (from gdown) (4.66.1)\n",
      "Requirement already satisfied: soupsieve>1.2 in d:\\a_category\\ineuron\\end-to-end-cancer-classification-using-mlflow-dvc\\venv\\lib\\site-packages (from beautifulsoup4->gdown) (2.5)\n",
      "Requirement already satisfied: charset-normalizer<4,>=2 in d:\\a_category\\ineuron\\end-to-end-cancer-classification-using-mlflow-dvc\\venv\\lib\\site-packages (from requests[socks]->gdown) (3.3.2)\n",
      "Requirement already satisfied: idna<4,>=2.5 in d:\\a_category\\ineuron\\end-to-end-cancer-classification-using-mlflow-dvc\\venv\\lib\\site-packages (from requests[socks]->gdown) (3.6)\n",
      "Requirement already satisfied: urllib3<3,>=1.21.1 in d:\\a_category\\ineuron\\end-to-end-cancer-classification-using-mlflow-dvc\\venv\\lib\\site-packages (from requests[socks]->gdown) (2.1.0)\n",
      "Requirement already satisfied: certifi>=2017.4.17 in d:\\a_category\\ineuron\\end-to-end-cancer-classification-using-mlflow-dvc\\venv\\lib\\site-packages (from requests[socks]->gdown) (2023.11.17)\n",
      "Requirement already satisfied: PySocks!=1.5.7,>=1.5.6 in d:\\a_category\\ineuron\\end-to-end-cancer-classification-using-mlflow-dvc\\venv\\lib\\site-packages (from requests[socks]->gdown) (1.7.1)\n",
      "Requirement already satisfied: colorama in d:\\a_category\\ineuron\\end-to-end-cancer-classification-using-mlflow-dvc\\venv\\lib\\site-packages (from tqdm->gdown) (0.4.6)\n"
     ]
    }
   ],
   "source": [
    "!pip install --upgrade --no-cache-dir gdown"
   ]
  },
  {
   "cell_type": "code",
   "execution_count": null,
   "metadata": {},
   "outputs": [],
   "source": [
    "url = \"https://drive.google.com/file/d/1z0mreUtRmR-P-magILsDR3T7M6IkGXtY/view?usp=sharing\""
   ]
  },
  {
   "cell_type": "code",
   "execution_count": null,
   "metadata": {},
   "outputs": [],
   "source": [
    "file_id = url.split(\"/\")[-2]\n",
    "file_id"
   ]
  },
  {
   "cell_type": "code",
   "execution_count": null,
   "metadata": {},
   "outputs": [],
   "source": [
    "prefix = 'https://drive.google.com/uc?/export=download&id='\n",
    "gdown.download(prefix+file_id, \"Chest-CT-Scan-data.zip\")"
   ]
  }
 ],
 "metadata": {
  "kernelspec": {
   "display_name": "Python 3",
   "language": "python",
   "name": "python3"
  },
  "language_info": {
   "codemirror_mode": {
    "name": "ipython",
    "version": 3
   },
   "file_extension": ".py",
   "mimetype": "text/x-python",
   "name": "python",
   "nbconvert_exporter": "python",
   "pygments_lexer": "ipython3",
   "version": "3.8.18"
  }
 },
 "nbformat": 4,
 "nbformat_minor": 2
}
